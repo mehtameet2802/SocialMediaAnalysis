{
 "cells": [
  {
   "cell_type": "code",
   "execution_count": null,
   "id": "72a9ed80-4cf8-4c72-826f-52dd901ce4e1",
   "metadata": {
    "tags": []
   },
   "outputs": [],
   "source": [
    "!pip install tweepy pandas numpy plotly tqdm"
   ]
  },
  {
   "cell_type": "code",
   "execution_count": null,
   "id": "6b238591-ce92-49ac-8a87-e5a6c738773b",
   "metadata": {},
   "outputs": [],
   "source": [
    "import tweepy\n",
    "import pandas as pd\n",
    "import numpy as np\n",
    "import time\n",
    "import glob\n",
    "import json                          \n",
    "import plotly.graph_objects as go    \n",
    "import tqdm\n",
    "from tqdm import trange\n",
    "from tqdm import tqdm\n",
    "import datetime as dt\n",
    "import requests"
   ]
  },
  {
   "cell_type": "code",
   "execution_count": null,
   "id": "f4cbc11e-c3f5-4504-b5bc-155ea7767aff",
   "metadata": {
    "tags": []
   },
   "outputs": [],
   "source": [
    "# the secure way of defining api keys\n",
    "# To set your environment variables in your terminal run the following line:\n",
    "# export 'BEARER_TOKEN'='<your_bearer_token>'\n",
    "# import os\n",
    "# bearer_token = os.environ.get(\"BEARER_TOKEN\")\n",
    "\n",
    "# the bad way of doing things\n",
    "# api_key = '<api_key>'  # add in your api key from your Twitter Developer Account here\n",
    "# api_key_secret = '<api_key_secret>' # add in your api secret from Twitter Developer Account here\n",
    "# bearer_token = '<bearer_token>'\n",
    "# access_token = '<access_token>'\n",
    "# access_token_secret = '<access_token_secret>'\n",
    "\n",
    "client = tweepy.Client(bearer_token=bearer_token)\n",
    "\n",
    "# News Categories:\n",
    "news_outlets = '((url:\"www.bloomberg.com\") OR (url:\"www.fortune.com\") OR (url:\"www.theguardian.com\") OR (url:\"www.npr.org\") OR (url:\"www.salon.com\") OR  (url:\"www.newsweek.com\") OR (url:\"www.politico.com\") OR (url:\"www.pbs.org\") OR (url:\"www.economist.com\") OR (url:\"www.nbc.com\") OR (url:\"www.abcnews.com\") OR (url:\"www.cbsnews.com\") OR (url:\"www.cnn.com\") OR (url:\"www.foxnews.com\") OR (url:\"www.sfchronicle.com\"))'\n",
    "\n",
    "# documentation: https://developer.twitter.com/en/docs/twitter-api/tweets/search/integrate/build-a-query#build\n",
    "query_params = {'query': news_outlets + ' -is:retweet',\n",
    "           'tweet.fields': 'author_id,entities', 'max_results':100}\n",
    "\n",
    "search_url = \"https://api.twitter.com/2/tweets/search/recent\"\n",
    "\n",
    "def bearer_oauth(r):\n",
    "    '''Construct an authentication header for the search service \n",
    "    '''\n",
    "    r.headers[\"Authorization\"] = f\"Bearer {bearer_token}\"\n",
    "    r.headers[\"User-Agent\"] = \"v2RecentSearchPython\"\n",
    "    return r\n",
    "\n",
    "\n",
    "def connect_to_endpoint(url, params):\n",
    "    '''Send the Twitter API a request to get back some data on the query you built.\n",
    "    '''\n",
    "    # this is called a GET request\n",
    "    response = requests.get(url, auth=bearer_oauth, params=params)\n",
    "    \n",
    "    if response.status_code != 200:  # code 200 indicates OK\n",
    "        raise Exception(response.status_code, response.text)\n",
    "    return response.json()\n",
    "\n",
    "response = connect_to_endpoint(search_url, query_params)"
   ]
  },
  {
   "cell_type": "code",
   "execution_count": null,
   "id": "4c16d25c-e16a-4732-82a2-3ed7188c2b78",
   "metadata": {},
   "outputs": [],
   "source": [
    "# Output an array given a search query:\n",
    "def parse_response(res):\n",
    "    if 'urls' in res['entities']:\n",
    "        return ['www.twitter.com/anyuser/status/' + str(res['id']), res['text'], res['entities']['urls'][0]['expanded_url']]\n",
    "    else:\n",
    "        return ['www.twitter.com/anyuser/status/' + str(res['id']), res['text'], '']\n",
    "\n",
    "\n",
    "# This is necessary because the API generates results in pages.\n",
    "def paginate(r):\n",
    "    token = r['meta']['next_token']\n",
    "    new_params = query_params\n",
    "    new_params.update({'pagination_token':token})\n",
    "    return connect_to_endpoint(search_url, new_params)\n",
    "\n",
    "responses = [response]\n",
    "\n",
    "# We arbitrarily chose to use 10 pages of max length 100.\n",
    "for i in range(10):\n",
    "    responses.append(paginate(responses[i]))\n",
    "\n",
    "# Save all the responses to a .csv file:\n",
    "table = []\n",
    "def add_to_table(res):\n",
    "    for x in range(res['meta']['result_count']):\n",
    "        row = []\n",
    "        row += (parse_response(((res)['data'])[x]))\n",
    "        table.append(row)\n",
    "\n",
    "for r in responses:\n",
    "    add_to_table(r)\n",
    "\n",
    "df = pd.DataFrame({'Link': [i[0] for i in table], \n",
    "                   'Body': [i[1] for i in table],\n",
    "                   'Article': [i[2] for i in table],\n",
    "                   })\n",
    "                   \n",
    "df.to_csv('news_tweets.csv')"
   ]
  },
  {
   "cell_type": "code",
   "execution_count": null,
   "id": "446ac6ed-d621-4e18-9d81-8f8729ebae20",
   "metadata": {
    "tags": []
   },
   "outputs": [],
   "source": [
    "for r in responses:\n",
    "    print(r)\n",
    "    break"
   ]
  },
  {
   "cell_type": "code",
   "execution_count": null,
   "id": "78e2aa79-a4ee-417f-84b6-e09e95addcfb",
   "metadata": {},
   "outputs": [],
   "source": [
    "r['data']"
   ]
  },
  {
   "cell_type": "code",
   "execution_count": null,
   "id": "7a6e91f1-76d1-48d3-a5cf-c501b00373ab",
   "metadata": {},
   "outputs": [],
   "source": []
  }
 ],
 "metadata": {
  "environment": {
   "kernel": "python3",
   "name": "pytorch-gpu.1-12.m100",
   "type": "gcloud",
   "uri": "gcr.io/deeplearning-platform-release/pytorch-gpu.1-12:m100"
  },
  "kernelspec": {
   "display_name": "Python 3",
   "language": "python",
   "name": "python3"
  },
  "language_info": {
   "codemirror_mode": {
    "name": "ipython",
    "version": 3
   },
   "file_extension": ".py",
   "mimetype": "text/x-python",
   "name": "python",
   "nbconvert_exporter": "python",
   "pygments_lexer": "ipython3",
   "version": "3.7.12"
  }
 },
 "nbformat": 4,
 "nbformat_minor": 5
}
