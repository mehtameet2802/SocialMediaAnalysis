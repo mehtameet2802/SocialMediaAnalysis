{
 "cells": [
  {
   "cell_type": "code",
   "execution_count": null,
   "id": "5c3c59df-30ad-422e-997a-caac48ae30ed",
   "metadata": {
    "tags": []
   },
   "outputs": [],
   "source": [
    "!pip install transformers scipy pandas plotly ekphrasis numpy torch"
   ]
  },
  {
   "cell_type": "code",
   "execution_count": null,
   "id": "a257c425-6fc2-4e34-9314-8f0a5ad299dc",
   "metadata": {},
   "outputs": [],
   "source": [
    "from transformers import AutoModelForSequenceClassification\n",
    "from transformers import TFAutoModelForSequenceClassification\n",
    "from transformers import AutoTokenizer\n",
    "import numpy as np\n",
    "from scipy.special import softmax\n",
    "import csv\n",
    "import urllib.request\n",
    "import pandas as pd\n",
    "import plotly\n",
    "from plotly import graph_objects as go\n",
    "import plotly.express as px\n",
    "import ekphrasis\n",
    "from ekphrasis.classes.preprocessor import TextPreProcessor\n",
    "from ekphrasis.classes.tokenizer import SocialTokenizer\n",
    "from ekphrasis.dicts.emoticons import emoticons\n",
    "from tqdm import tqdm"
   ]
  },
  {
   "cell_type": "code",
   "execution_count": null,
   "id": "970e424a-ebe6-464e-9c82-36172b2cecc2",
   "metadata": {
    "tags": []
   },
   "outputs": [],
   "source": [
    "def preprocess(text):\n",
    "    '''This function takes in text and removes links and usernames from it.\n",
    "    Parameters\n",
    "    ----------\n",
    "    text : string of unprocessed text (contains links and usernames)\n",
    "    '''\n",
    "    new_text = []\n",
    "    for t in text.split(\" \"):\n",
    "        t = '@user' if t.startswith('@') and len(t) > 1 else t\n",
    "        t = 'http' if t.startswith('http') else t\n",
    "        new_text.append(t)\n",
    "    return \" \".join(new_text)\n",
    "    \n",
    "\n",
    "# You can run alternate versions of this model specialized to different tasks\n",
    "# emoji, emotion, hate, irony, offensive, sentiment\n",
    "task='sentiment'\n",
    "MODEL = f\"cardiffnlp/twitter-roberta-base-{task}\"\n",
    "tokenizer = AutoTokenizer.from_pretrained(MODEL)\n",
    "\n",
    "# download label mapping\n",
    "labels=[]\n",
    "mapping_link = f\"https://raw.githubusercontent.com/cardiffnlp/tweeteval/main/datasets/{task}/mapping.txt\"\n",
    "with urllib.request.urlopen(mapping_link) as f:\n",
    "    html = f.read().decode('utf-8').split(\"\\n\")\n",
    "    csvreader = csv.reader(html, delimiter='\\t')\n",
    "labels = [row[1] for row in csvreader if len(row) > 1]\n",
    "\n",
    "# Load pretrained Pytorch model\n",
    "model = AutoModelForSequenceClassification.from_pretrained(MODEL)\n",
    "model.save_pretrained(MODEL)\n",
    "tokenizer.save_pretrained(MODEL)\n",
    "\n",
    "df = pd.read_csv('news_tweets.csv')\n",
    "\n",
    "def analyze(text, model, no_neutral=False, raw = False):\n",
    "    '''Take in text and the model as inputs and returns a score\n",
    "    '''\n",
    "    processed_text = preprocess(text)\n",
    "    encoded_input = tokenizer(processed_text, return_tensors='pt')\n",
    "    output = model(**encoded_input)\n",
    "    scores = output[0][0].detach().numpy()\n",
    "    scores = softmax(scores)\n",
    "    return scores\n",
    "\n",
    "# For Twitter, where the .csv files are already seperated by categories:\n",
    "outputs=[]                        \n",
    "labels = {0: 'Negative', 1:'Neutral', 2:'Positive'}\n",
    "\n",
    "for i in tqdm(df['Body']):\n",
    "    res = analyze(i, model, raw=False, no_neutral=True)\n",
    "    outputs.append([i, res])\n",
    "    break\n",
    "# From this, we obtained all the information we used in our study about the sentiment of tweets\n"
   ]
  },
  {
   "cell_type": "code",
   "execution_count": null,
   "id": "91517076-2ad3-4a9a-8f33-9360388baf38",
   "metadata": {},
   "outputs": [],
   "source": [
    "outputs"
   ]
  },
  {
   "cell_type": "code",
   "execution_count": null,
   "id": "5e7d513f-4134-4477-a163-de9ef8056a9f",
   "metadata": {},
   "outputs": [],
   "source": []
  }
 ],
 "metadata": {
  "environment": {
   "kernel": "python3",
   "name": "pytorch-gpu.1-12.m100",
   "type": "gcloud",
   "uri": "gcr.io/deeplearning-platform-release/pytorch-gpu.1-12:m100"
  },
  "kernelspec": {
   "display_name": "Python 3",
   "language": "python",
   "name": "python3"
  },
  "language_info": {
   "codemirror_mode": {
    "name": "ipython",
    "version": 3
   },
   "file_extension": ".py",
   "mimetype": "text/x-python",
   "name": "python",
   "nbconvert_exporter": "python",
   "pygments_lexer": "ipython3",
   "version": "3.7.12"
  }
 },
 "nbformat": 4,
 "nbformat_minor": 5
}
